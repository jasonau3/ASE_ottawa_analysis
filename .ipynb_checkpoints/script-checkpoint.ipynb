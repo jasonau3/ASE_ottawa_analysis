{
 "cells": [
  {
   "cell_type": "code",
   "execution_count": 2,
   "metadata": {},
   "outputs": [],
   "source": [
    "import pandas as pd\n",
    "\n",
    "# Load the CSV file\n",
    "file_path = 'Automated_Speed_Enforcement_Camera_Speed_Data.csv' \n",
    "df = pd.read_csv(file_path)\n",
    "\n",
    "# Decided to ignore data before june 2023. basically remove any NA data\n",
    "df = df[['Location', 'Camera_Install_Year', 'Latitude','Longitude', \"Avg_Speed___2023_06_23\", \"F85th_____2023_06_23\", \"F_Compliance___2023_06_23\", \"Avg_Speed___2023_07_23\", \"F85th_____2023_07_23\", \"F_Compliance___2023_07_23\", \"Avg_Speed___2023_08_23\", \"F85th_____2023_08_23\", \"F_Compliance___2023_08_23\", \"Avg_Speed___2023_09_23\", \"F85th_____2023_09_23\", \"F_Compliance___2023_09_23\", \"Avg_Speed___2023_10_23\", \"F85th_____2023_10_23\", \"F_Compliance___2023_10_23\", \"Avg_Speed___2023_11_23\", \"F85th_____2023_11_23\"]]"
   ]
  },
  {
   "cell_type": "code",
   "execution_count": 19,
   "metadata": {},
   "outputs": [
    {
     "name": "stdout",
     "output_type": "stream",
     "text": [
      "Location                   E001 - Longfields Dr. between Highbury Park Dr...\n",
      "Camera_Install_Year                                                     2020\n",
      "Latitude                                                           45.281464\n",
      "Longitude                                                         -75.743955\n",
      "Avg_Speed_2023_06_23                                                      37\n",
      "F85th___2023_06_23                                                        42\n",
      "F_Compliance_2023_06_23                                                   80\n",
      "Avg_Speed_2023_07_23                                                      37\n",
      "F85th___2023_07_23                                                        42\n",
      "F_Compliance_2023_07_23                                                   79\n",
      "Avg_Speed_2023_08_23                                                      37\n",
      "F85th___2023_08_23                                                        42\n",
      "F_Compliance_2023_08_23                                                   80\n",
      "Avg_Speed_2023_09_23                                                      37\n",
      "F85th___2023_09_23                                                        41\n",
      "F_Compliance_2023_09_23                                                   84\n",
      "Avg_Speed_2023_10_23                                                      36\n",
      "F85th___2023_10_23                                                        41\n",
      "F_Compliance_2023_10_23                                                   84\n",
      "Avg_Speed_2023_11_23                                                      36\n",
      "F85th___2023_11_23                                                        40\n",
      "Name: 0, dtype: object\n"
     ]
    }
   ],
   "source": [
    "# analysis one location first\n",
    "longfield_df = df.iloc[0]\n",
    "\n",
    "print(longfield_df)\n",
    "\n",
    "# - analysis average speed trends\n",
    "# - compliance trends to see if it deterioates over time (considering im going from june to dec, does it get worse during the winter?)\n",
    "# - determine a correlation between avg speed and compliance. if speed is lower, then is compliance higher?"
   ]
  },
  {
   "cell_type": "code",
   "execution_count": null,
   "metadata": {},
   "outputs": [],
   "source": []
  }
 ],
 "metadata": {
  "kernelspec": {
   "display_name": "Python 3 (ipykernel)",
   "language": "python",
   "name": "python3"
  },
  "language_info": {
   "codemirror_mode": {
    "name": "ipython",
    "version": 3
   },
   "file_extension": ".py",
   "mimetype": "text/x-python",
   "name": "python",
   "nbconvert_exporter": "python",
   "pygments_lexer": "ipython3",
   "version": "3.10.11"
  }
 },
 "nbformat": 4,
 "nbformat_minor": 2
}
