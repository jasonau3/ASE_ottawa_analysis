{
 "cells": [
  {
   "cell_type": "code",
   "execution_count": 26,
   "metadata": {},
   "outputs": [],
   "source": [
    "import pandas as pd\n",
    "import matplotlib.pyplot as plt\n",
    "\n",
    "# Load the CSV file\n",
    "file_path = 'Automated_Speed_Enforcement_Camera_Speed_Data.csv' \n",
    "df = pd.read_csv(file_path)\n",
    "\n",
    "# Decided to ignore data before june 2023. basically remove any NA data\n",
    "df = df[['Location', 'Camera_Install_Year', 'Latitude','Longitude', \"Avg_Speed___2023_06_23\", \"F85th_____2023_06_23\", \"F_Compliance___2023_06_23\", \"Avg_Speed___2023_07_23\", \"F85th_____2023_07_23\", \"F_Compliance___2023_07_23\", \"Avg_Speed___2023_08_23\", \"F85th_____2023_08_23\", \"F_Compliance___2023_08_23\", \"Avg_Speed___2023_09_23\", \"F85th_____2023_09_23\", \"F_Compliance___2023_09_23\", \"Avg_Speed___2023_10_23\", \"F85th_____2023_10_23\", \"F_Compliance___2023_10_23\", \"Avg_Speed___2023_11_23\", \"F85th_____2023_11_23\"]]"
   ]
  },
  {
   "cell_type": "code",
   "execution_count": 27,
   "metadata": {},
   "outputs": [
    {
     "name": "stdout",
     "output_type": "stream",
     "text": [
      "        Date Avg_Speed F85th F_Compliance\n",
      "0 2023-06-23        47    53           76\n",
      "1 2023-07-23        48    53           73\n",
      "2 2023-08-23        47    53           74\n",
      "3 2023-09-23        46    52           78\n",
      "4 2023-10-23        46    52           78\n",
      "5 2023-11-23        46    52          NaN\n",
      "                       Date  Avg_Speed  F85th  F_Compliance\n",
      "count                     6        6.0    6.0           5.0\n",
      "unique                    6        3.0    2.0           4.0\n",
      "top     2023-06-23 00:00:00       46.0   53.0          78.0\n",
      "freq                      1        3.0    3.0           2.0\n",
      "first   2023-06-23 00:00:00        NaN    NaN           NaN\n",
      "last    2023-11-23 00:00:00        NaN    NaN           NaN\n",
      "              Avg_Speed  F_Compliance\n",
      "Avg_Speed      1.000000     -0.943456\n",
      "F_Compliance  -0.943456      1.000000\n"
     ]
    },
    {
     "name": "stderr",
     "output_type": "stream",
     "text": [
      "C:\\Users\\Jason\\AppData\\Local\\Temp\\ipykernel_21784\\2565353083.py:32: FutureWarning: Treating datetime data as categorical rather than numeric in `.describe` is deprecated and will be removed in a future version of pandas. Specify `datetime_is_numeric=True` to silence this warning and adopt the future behavior now.\n",
      "  basic_stats = new_df.describe()\n"
     ]
    },
    {
     "data": {
      "image/png": "[encoded data removed]",
      "text/plain": [
       "<Figure size 864x432 with 1 Axes>"
      ]
     },
     "metadata": {
      "needs_background": "light"
     },
     "output_type": "display_data"
    }
   ],
   "source": [
    "# analysis one location first\n",
    "location_data = df.iloc[5]\n",
    "\n",
    "# FIRST - DATA CLEANING\n",
    "\n",
    "# remove non-date columns\n",
    "date_entries = location_data[location_data.index.str.contains('2023')]\n",
    "\n",
    "# Split index to get dates and metrics\n",
    "dates = pd.to_datetime(date_entries.index.str.extract(r'___(2023_\\d{2}_\\d{2})')[0], format='%Y_%m_%d')\n",
    "metrics = date_entries.index.str.extract(r'(^.*?)___')[0]\n",
    "\n",
    "# create a new df from extracted data\n",
    "new_df_data = {\n",
    "    'Date': dates,\n",
    "    'Metric': metrics,\n",
    "    'Value': date_entries.values\n",
    "}\n",
    "temp_df = pd.DataFrame(new_df_data)\n",
    "\n",
    "# Pivot to get the desired format\n",
    "new_df = temp_df.pivot(index='Date', columns='Metric', values='Value').reset_index()\n",
    "new_df.columns.name = None\n",
    "new_df.rename(columns=lambda x: x.replace('F85th_____', 'F85th').replace('F_Compliance___', 'F_Compliance').replace('Avg_Speed___', 'Avg_Speed'), inplace=True)\n",
    "\n",
    "# Display new df\n",
    "print(new_df)\n",
    "\n",
    "# SECOND - DATA ANALYSIS\n",
    "\n",
    "# statistical analysis\n",
    "basic_stats = new_df.describe()\n",
    "print(basic_stats)\n",
    "\n",
    "# correlation analysis\n",
    "correlation = new_df[['Avg_Speed', 'F_Compliance']].astype(float).corr()\n",
    "print(correlation)\n",
    "\n",
    "# THIRD - DATA VISUALIZATION\n",
    "plt.figure(figsize=(12, 6))\n",
    "plt.plot(new_df['Date'], new_df['Avg_Speed'].astype(float), label='Avg_Speed')\n",
    "plt.plot(new_df['Date'], new_df['F85th'].astype(float), label='F85th')\n",
    "plt.plot(new_df['Date'], new_df['F_Compliance'].astype(float), label='F_Compliance')\n",
    "plt.xlabel('Date')\n",
    "plt.ylabel('Value')\n",
    "plt.title('Trends Over Time')\n",
    "plt.legend()\n",
    "plt.show()"
   ]
  }
 ],
 "metadata": {
  "kernelspec": {
   "display_name": "Python 3 (ipykernel)",
   "language": "python",
   "name": "python3"
  },
  "language_info": {
   "codemirror_mode": {
    "name": "ipython",
    "version": 3
   },
   "file_extension": ".py",
   "mimetype": "text/x-python",
   "name": "python",
   "nbconvert_exporter": "python",
   "pygments_lexer": "ipython3",
   "version": "3.10.11"
  }
 },
 "nbformat": 4,
 "nbformat_minor": 2
}
